{
  "nbformat": 4,
  "nbformat_minor": 0,
  "metadata": {
    "colab": {
      "provenance": [],
      "authorship_tag": "ABX9TyMDMJYIJQbZJLzeY8igw5AJ",
      "include_colab_link": true
    },
    "kernelspec": {
      "name": "python3",
      "display_name": "Python 3"
    },
    "language_info": {
      "name": "python"
    }
  },
  "cells": [
    {
      "cell_type": "markdown",
      "metadata": {
        "id": "view-in-github",
        "colab_type": "text"
      },
      "source": [
        "<a href=\"https://colab.research.google.com/github/heryca-gomes/AGENDA/blob/main/Projeto_SI.ipynb\" target=\"_parent\"><img src=\"https://colab.research.google.com/assets/colab-badge.svg\" alt=\"Open In Colab\"/></a>"
      ]
    },
    {
      "cell_type": "markdown",
      "source": [
        "Doenças cardíacas consistem na ocorrência de falhas nas estruturas do coração, de modo que estas passem a não funcionar corretamente, podendo possuir agravantes diretamente ligados ao estilo de vida do paciente. Dentre eles podemos citar, a título de exemplo, comportamentos como: tabagismo, estresse, má alimentação e sedentarismo.\n",
        "\n",
        "Nesse contexto, doenças cardiovasculares se apresentam globalmente como a principal causa de morte, segundo aponta a OMS. Como exemplo de doenças cardiovasculares, podemos citar: arritimia, artrose, cardiomiopatia, endocartite, estenose mitral, hipertensção, infarto entre outros. Tendo em vista que, como apontado anteriormente, doenças do coração estão, muitas vezes, diretamente ligadas a hábitos, de modo que a partir disso é possível perceber padrões comportamentais dentro de determinados grupos, podendo ainda ser observados aspectos como a relação entre a ocorrência das comorbidades e idade, sexo, pressão arterial e outros.\n",
        "\n",
        "Haja visto as constatações apresentadas até aqui, essa análise se propõe a identificar padrões de ocorrência em pacientes que apresentam algum tipo de doença cardíaca, desta forma podemos entender quais os perfis de pessoas que tendem a ter doenças cardiovasculares e quais tendem a não ter."
      ],
      "metadata": {
        "id": "apSfTQ_fzBgS"
      }
    },
    {
      "cell_type": "code",
      "source": [
        "#instalando lib\n",
        "!pip install ydata_profiling"
      ],
      "metadata": {
        "colab": {
          "base_uri": "https://localhost:8080/"
        },
        "id": "zVbN7V2pzEty",
        "outputId": "0af71e14-fdf5-4e19-fa00-e099dcfcb4cc"
      },
      "execution_count": 1,
      "outputs": [
        {
          "output_type": "stream",
          "name": "stdout",
          "text": [
            "Collecting ydata_profiling\n",
            "  Downloading ydata_profiling-4.12.0-py2.py3-none-any.whl.metadata (20 kB)\n",
            "Requirement already satisfied: scipy<1.14,>=1.4.1 in /usr/local/lib/python3.10/dist-packages (from ydata_profiling) (1.13.1)\n",
            "Requirement already satisfied: pandas!=1.4.0,<3,>1.1 in /usr/local/lib/python3.10/dist-packages (from ydata_profiling) (2.2.2)\n",
            "Requirement already satisfied: matplotlib<3.10,>=3.5 in /usr/local/lib/python3.10/dist-packages (from ydata_profiling) (3.7.1)\n",
            "Requirement already satisfied: pydantic>=2 in /usr/local/lib/python3.10/dist-packages (from ydata_profiling) (2.9.2)\n",
            "Requirement already satisfied: PyYAML<6.1,>=5.0.0 in /usr/local/lib/python3.10/dist-packages (from ydata_profiling) (6.0.2)\n",
            "Requirement already satisfied: jinja2<3.2,>=2.11.1 in /usr/local/lib/python3.10/dist-packages (from ydata_profiling) (3.1.4)\n",
            "Collecting visions<0.7.7,>=0.7.5 (from visions[type_image_path]<0.7.7,>=0.7.5->ydata_profiling)\n",
            "  Downloading visions-0.7.6-py3-none-any.whl.metadata (11 kB)\n",
            "Requirement already satisfied: numpy<2.2,>=1.16.0 in /usr/local/lib/python3.10/dist-packages (from ydata_profiling) (1.26.4)\n",
            "Collecting htmlmin==0.1.12 (from ydata_profiling)\n",
            "  Downloading htmlmin-0.1.12.tar.gz (19 kB)\n",
            "  Preparing metadata (setup.py) ... \u001b[?25l\u001b[?25hdone\n",
            "Collecting phik<0.13,>=0.11.1 (from ydata_profiling)\n",
            "  Downloading phik-0.12.4-cp310-cp310-manylinux_2_17_x86_64.manylinux2014_x86_64.whl.metadata (5.6 kB)\n",
            "Requirement already satisfied: requests<3,>=2.24.0 in /usr/local/lib/python3.10/dist-packages (from ydata_profiling) (2.32.3)\n",
            "Requirement already satisfied: tqdm<5,>=4.48.2 in /usr/local/lib/python3.10/dist-packages (from ydata_profiling) (4.66.5)\n",
            "Requirement already satisfied: seaborn<0.14,>=0.10.1 in /usr/local/lib/python3.10/dist-packages (from ydata_profiling) (0.13.2)\n",
            "Collecting multimethod<2,>=1.4 (from ydata_profiling)\n",
            "  Downloading multimethod-1.12-py3-none-any.whl.metadata (9.6 kB)\n",
            "Requirement already satisfied: statsmodels<1,>=0.13.2 in /usr/local/lib/python3.10/dist-packages (from ydata_profiling) (0.14.4)\n",
            "Requirement already satisfied: typeguard<5,>=3 in /usr/local/lib/python3.10/dist-packages (from ydata_profiling) (4.3.0)\n",
            "Collecting imagehash==4.3.1 (from ydata_profiling)\n",
            "  Downloading ImageHash-4.3.1-py2.py3-none-any.whl.metadata (8.0 kB)\n",
            "Requirement already satisfied: wordcloud>=1.9.3 in /usr/local/lib/python3.10/dist-packages (from ydata_profiling) (1.9.3)\n",
            "Collecting dacite>=1.8 (from ydata_profiling)\n",
            "  Downloading dacite-1.8.1-py3-none-any.whl.metadata (15 kB)\n",
            "Requirement already satisfied: numba<1,>=0.56.0 in /usr/local/lib/python3.10/dist-packages (from ydata_profiling) (0.60.0)\n",
            "Collecting PyWavelets (from imagehash==4.3.1->ydata_profiling)\n",
            "  Downloading pywavelets-1.7.0-cp310-cp310-manylinux_2_17_x86_64.manylinux2014_x86_64.whl.metadata (9.0 kB)\n",
            "Requirement already satisfied: pillow in /usr/local/lib/python3.10/dist-packages (from imagehash==4.3.1->ydata_profiling) (10.4.0)\n",
            "Requirement already satisfied: MarkupSafe>=2.0 in /usr/local/lib/python3.10/dist-packages (from jinja2<3.2,>=2.11.1->ydata_profiling) (3.0.2)\n",
            "Requirement already satisfied: contourpy>=1.0.1 in /usr/local/lib/python3.10/dist-packages (from matplotlib<3.10,>=3.5->ydata_profiling) (1.3.0)\n",
            "Requirement already satisfied: cycler>=0.10 in /usr/local/lib/python3.10/dist-packages (from matplotlib<3.10,>=3.5->ydata_profiling) (0.12.1)\n",
            "Requirement already satisfied: fonttools>=4.22.0 in /usr/local/lib/python3.10/dist-packages (from matplotlib<3.10,>=3.5->ydata_profiling) (4.54.1)\n",
            "Requirement already satisfied: kiwisolver>=1.0.1 in /usr/local/lib/python3.10/dist-packages (from matplotlib<3.10,>=3.5->ydata_profiling) (1.4.7)\n",
            "Requirement already satisfied: packaging>=20.0 in /usr/local/lib/python3.10/dist-packages (from matplotlib<3.10,>=3.5->ydata_profiling) (24.1)\n",
            "Requirement already satisfied: pyparsing>=2.3.1 in /usr/local/lib/python3.10/dist-packages (from matplotlib<3.10,>=3.5->ydata_profiling) (3.2.0)\n",
            "Requirement already satisfied: python-dateutil>=2.7 in /usr/local/lib/python3.10/dist-packages (from matplotlib<3.10,>=3.5->ydata_profiling) (2.8.2)\n",
            "Requirement already satisfied: llvmlite<0.44,>=0.43.0dev0 in /usr/local/lib/python3.10/dist-packages (from numba<1,>=0.56.0->ydata_profiling) (0.43.0)\n",
            "Requirement already satisfied: pytz>=2020.1 in /usr/local/lib/python3.10/dist-packages (from pandas!=1.4.0,<3,>1.1->ydata_profiling) (2024.2)\n",
            "Requirement already satisfied: tzdata>=2022.7 in /usr/local/lib/python3.10/dist-packages (from pandas!=1.4.0,<3,>1.1->ydata_profiling) (2024.2)\n",
            "Requirement already satisfied: joblib>=0.14.1 in /usr/local/lib/python3.10/dist-packages (from phik<0.13,>=0.11.1->ydata_profiling) (1.4.2)\n",
            "Requirement already satisfied: annotated-types>=0.6.0 in /usr/local/lib/python3.10/dist-packages (from pydantic>=2->ydata_profiling) (0.7.0)\n",
            "Requirement already satisfied: pydantic-core==2.23.4 in /usr/local/lib/python3.10/dist-packages (from pydantic>=2->ydata_profiling) (2.23.4)\n",
            "Requirement already satisfied: typing-extensions>=4.6.1 in /usr/local/lib/python3.10/dist-packages (from pydantic>=2->ydata_profiling) (4.12.2)\n",
            "Requirement already satisfied: charset-normalizer<4,>=2 in /usr/local/lib/python3.10/dist-packages (from requests<3,>=2.24.0->ydata_profiling) (3.4.0)\n",
            "Requirement already satisfied: idna<4,>=2.5 in /usr/local/lib/python3.10/dist-packages (from requests<3,>=2.24.0->ydata_profiling) (3.10)\n",
            "Requirement already satisfied: urllib3<3,>=1.21.1 in /usr/local/lib/python3.10/dist-packages (from requests<3,>=2.24.0->ydata_profiling) (2.2.3)\n",
            "Requirement already satisfied: certifi>=2017.4.17 in /usr/local/lib/python3.10/dist-packages (from requests<3,>=2.24.0->ydata_profiling) (2024.8.30)\n",
            "Requirement already satisfied: patsy>=0.5.6 in /usr/local/lib/python3.10/dist-packages (from statsmodels<1,>=0.13.2->ydata_profiling) (0.5.6)\n",
            "Requirement already satisfied: attrs>=19.3.0 in /usr/local/lib/python3.10/dist-packages (from visions<0.7.7,>=0.7.5->visions[type_image_path]<0.7.7,>=0.7.5->ydata_profiling) (24.2.0)\n",
            "Requirement already satisfied: networkx>=2.4 in /usr/local/lib/python3.10/dist-packages (from visions<0.7.7,>=0.7.5->visions[type_image_path]<0.7.7,>=0.7.5->ydata_profiling) (3.4.2)\n",
            "Requirement already satisfied: six in /usr/local/lib/python3.10/dist-packages (from patsy>=0.5.6->statsmodels<1,>=0.13.2->ydata_profiling) (1.16.0)\n",
            "Downloading ydata_profiling-4.12.0-py2.py3-none-any.whl (390 kB)\n",
            "\u001b[2K   \u001b[90m━━━━━━━━━━━━━━━━━━━━━━━━━━━━━━━━━━━━━━━━\u001b[0m \u001b[32m390.6/390.6 kB\u001b[0m \u001b[31m8.1 MB/s\u001b[0m eta \u001b[36m0:00:00\u001b[0m\n",
            "\u001b[?25hDownloading ImageHash-4.3.1-py2.py3-none-any.whl (296 kB)\n",
            "\u001b[2K   \u001b[90m━━━━━━━━━━━━━━━━━━━━━━━━━━━━━━━━━━━━━━━━\u001b[0m \u001b[32m296.5/296.5 kB\u001b[0m \u001b[31m17.8 MB/s\u001b[0m eta \u001b[36m0:00:00\u001b[0m\n",
            "\u001b[?25hDownloading dacite-1.8.1-py3-none-any.whl (14 kB)\n",
            "Downloading multimethod-1.12-py3-none-any.whl (10 kB)\n",
            "Downloading phik-0.12.4-cp310-cp310-manylinux_2_17_x86_64.manylinux2014_x86_64.whl (686 kB)\n",
            "\u001b[2K   \u001b[90m━━━━━━━━━━━━━━━━━━━━━━━━━━━━━━━━━━━━━━━━\u001b[0m \u001b[32m686.1/686.1 kB\u001b[0m \u001b[31m33.7 MB/s\u001b[0m eta \u001b[36m0:00:00\u001b[0m\n",
            "\u001b[?25hDownloading visions-0.7.6-py3-none-any.whl (104 kB)\n",
            "\u001b[2K   \u001b[90m━━━━━━━━━━━━━━━━━━━━━━━━━━━━━━━━━━━━━━━━\u001b[0m \u001b[32m104.8/104.8 kB\u001b[0m \u001b[31m6.8 MB/s\u001b[0m eta \u001b[36m0:00:00\u001b[0m\n",
            "\u001b[?25hDownloading pywavelets-1.7.0-cp310-cp310-manylinux_2_17_x86_64.manylinux2014_x86_64.whl (4.5 MB)\n",
            "\u001b[2K   \u001b[90m━━━━━━━━━━━━━━━━━━━━━━━━━━━━━━━━━━━━━━━━\u001b[0m \u001b[32m4.5/4.5 MB\u001b[0m \u001b[31m73.6 MB/s\u001b[0m eta \u001b[36m0:00:00\u001b[0m\n",
            "\u001b[?25hBuilding wheels for collected packages: htmlmin\n",
            "  Building wheel for htmlmin (setup.py) ... \u001b[?25l\u001b[?25hdone\n",
            "  Created wheel for htmlmin: filename=htmlmin-0.1.12-py3-none-any.whl size=27081 sha256=db57cb25cade1d3b66019431cc6f64cba0bd81ebdb2233fa4a27cd2c938a3297\n",
            "  Stored in directory: /root/.cache/pip/wheels/dd/91/29/a79cecb328d01739e64017b6fb9a1ab9d8cb1853098ec5966d\n",
            "Successfully built htmlmin\n",
            "Installing collected packages: htmlmin, PyWavelets, multimethod, dacite, imagehash, visions, phik, ydata_profiling\n",
            "Successfully installed PyWavelets-1.7.0 dacite-1.8.1 htmlmin-0.1.12 imagehash-4.3.1 multimethod-1.12 phik-0.12.4 visions-0.7.6 ydata_profiling-4.12.0\n"
          ]
        }
      ]
    },
    {
      "cell_type": "code",
      "source": [
        "import numpy as np\n",
        "import pandas as pd\n",
        "import matplotlib.pyplot as plt\n",
        "import seaborn as sns\n",
        "from google.colab import files\n",
        "from sklearn.model_selection import train_test_split  # Para dividir os dados em treino e teste\n",
        "from sklearn.preprocessing import StandardScaler  # Para normalizar os dados\n",
        "from sklearn.neighbors import KNeighborsClassifier  # Modelo KNN\n",
        "from sklearn.tree import DecisionTreeClassifier  # Modelo Árvore de Decisão\n",
        "from sklearn.ensemble import RandomForestClassifier  # Modelo Random Forest\n",
        "from sklearn.metrics import accuracy_score, precision_score, recall_score, f1_score  # Métricas de avaliação"
      ],
      "metadata": {
        "id": "T4e7mHMdzSIU"
      },
      "execution_count": 2,
      "outputs": []
    },
    {
      "cell_type": "code",
      "source": [
        "# Fazendo a leitura dos dados\n",
        "df = files.upload()\n",
        "df = pd.read_csv('heart.csv')\n",
        "\n",
        "#Atribuindo nomes mais intuitivos para as colunas, afim de facilitar a leitura dos dados\n",
        "df.columns = [\n",
        "    'idade',\n",
        "    'sexo',\n",
        "    'tipo de dor no peito',\n",
        "    'pressão arterial em repouso',\n",
        "    'colesterol',\n",
        "    'glicemia em jejum',\n",
        "    'Resultados eletrocardiográficos de repouso',\n",
        "    'frequência cardíaca máxima alcançada',\n",
        "    'angina induzida por exercício',\n",
        "    'oldpeak ',\n",
        "    'inclinação',\n",
        "    'número de vasos principais',\n",
        "    'thal',\n",
        "    'alvo'\n",
        "]"
      ],
      "metadata": {
        "colab": {
          "base_uri": "https://localhost:8080/",
          "height": 73
        },
        "id": "_exHIxE3zXCc",
        "outputId": "fe2061e6-0a9a-4181-b3ba-a60622f0dfc8"
      },
      "execution_count": 3,
      "outputs": [
        {
          "output_type": "display_data",
          "data": {
            "text/plain": [
              "<IPython.core.display.HTML object>"
            ],
            "text/html": [
              "\n",
              "     <input type=\"file\" id=\"files-2ffe03ce-917e-4b55-9b2b-a440a0808b94\" name=\"files[]\" multiple disabled\n",
              "        style=\"border:none\" />\n",
              "     <output id=\"result-2ffe03ce-917e-4b55-9b2b-a440a0808b94\">\n",
              "      Upload widget is only available when the cell has been executed in the\n",
              "      current browser session. Please rerun this cell to enable.\n",
              "      </output>\n",
              "      <script>// Copyright 2017 Google LLC\n",
              "//\n",
              "// Licensed under the Apache License, Version 2.0 (the \"License\");\n",
              "// you may not use this file except in compliance with the License.\n",
              "// You may obtain a copy of the License at\n",
              "//\n",
              "//      http://www.apache.org/licenses/LICENSE-2.0\n",
              "//\n",
              "// Unless required by applicable law or agreed to in writing, software\n",
              "// distributed under the License is distributed on an \"AS IS\" BASIS,\n",
              "// WITHOUT WARRANTIES OR CONDITIONS OF ANY KIND, either express or implied.\n",
              "// See the License for the specific language governing permissions and\n",
              "// limitations under the License.\n",
              "\n",
              "/**\n",
              " * @fileoverview Helpers for google.colab Python module.\n",
              " */\n",
              "(function(scope) {\n",
              "function span(text, styleAttributes = {}) {\n",
              "  const element = document.createElement('span');\n",
              "  element.textContent = text;\n",
              "  for (const key of Object.keys(styleAttributes)) {\n",
              "    element.style[key] = styleAttributes[key];\n",
              "  }\n",
              "  return element;\n",
              "}\n",
              "\n",
              "// Max number of bytes which will be uploaded at a time.\n",
              "const MAX_PAYLOAD_SIZE = 100 * 1024;\n",
              "\n",
              "function _uploadFiles(inputId, outputId) {\n",
              "  const steps = uploadFilesStep(inputId, outputId);\n",
              "  const outputElement = document.getElementById(outputId);\n",
              "  // Cache steps on the outputElement to make it available for the next call\n",
              "  // to uploadFilesContinue from Python.\n",
              "  outputElement.steps = steps;\n",
              "\n",
              "  return _uploadFilesContinue(outputId);\n",
              "}\n",
              "\n",
              "// This is roughly an async generator (not supported in the browser yet),\n",
              "// where there are multiple asynchronous steps and the Python side is going\n",
              "// to poll for completion of each step.\n",
              "// This uses a Promise to block the python side on completion of each step,\n",
              "// then passes the result of the previous step as the input to the next step.\n",
              "function _uploadFilesContinue(outputId) {\n",
              "  const outputElement = document.getElementById(outputId);\n",
              "  const steps = outputElement.steps;\n",
              "\n",
              "  const next = steps.next(outputElement.lastPromiseValue);\n",
              "  return Promise.resolve(next.value.promise).then((value) => {\n",
              "    // Cache the last promise value to make it available to the next\n",
              "    // step of the generator.\n",
              "    outputElement.lastPromiseValue = value;\n",
              "    return next.value.response;\n",
              "  });\n",
              "}\n",
              "\n",
              "/**\n",
              " * Generator function which is called between each async step of the upload\n",
              " * process.\n",
              " * @param {string} inputId Element ID of the input file picker element.\n",
              " * @param {string} outputId Element ID of the output display.\n",
              " * @return {!Iterable<!Object>} Iterable of next steps.\n",
              " */\n",
              "function* uploadFilesStep(inputId, outputId) {\n",
              "  const inputElement = document.getElementById(inputId);\n",
              "  inputElement.disabled = false;\n",
              "\n",
              "  const outputElement = document.getElementById(outputId);\n",
              "  outputElement.innerHTML = '';\n",
              "\n",
              "  const pickedPromise = new Promise((resolve) => {\n",
              "    inputElement.addEventListener('change', (e) => {\n",
              "      resolve(e.target.files);\n",
              "    });\n",
              "  });\n",
              "\n",
              "  const cancel = document.createElement('button');\n",
              "  inputElement.parentElement.appendChild(cancel);\n",
              "  cancel.textContent = 'Cancel upload';\n",
              "  const cancelPromise = new Promise((resolve) => {\n",
              "    cancel.onclick = () => {\n",
              "      resolve(null);\n",
              "    };\n",
              "  });\n",
              "\n",
              "  // Wait for the user to pick the files.\n",
              "  const files = yield {\n",
              "    promise: Promise.race([pickedPromise, cancelPromise]),\n",
              "    response: {\n",
              "      action: 'starting',\n",
              "    }\n",
              "  };\n",
              "\n",
              "  cancel.remove();\n",
              "\n",
              "  // Disable the input element since further picks are not allowed.\n",
              "  inputElement.disabled = true;\n",
              "\n",
              "  if (!files) {\n",
              "    return {\n",
              "      response: {\n",
              "        action: 'complete',\n",
              "      }\n",
              "    };\n",
              "  }\n",
              "\n",
              "  for (const file of files) {\n",
              "    const li = document.createElement('li');\n",
              "    li.append(span(file.name, {fontWeight: 'bold'}));\n",
              "    li.append(span(\n",
              "        `(${file.type || 'n/a'}) - ${file.size} bytes, ` +\n",
              "        `last modified: ${\n",
              "            file.lastModifiedDate ? file.lastModifiedDate.toLocaleDateString() :\n",
              "                                    'n/a'} - `));\n",
              "    const percent = span('0% done');\n",
              "    li.appendChild(percent);\n",
              "\n",
              "    outputElement.appendChild(li);\n",
              "\n",
              "    const fileDataPromise = new Promise((resolve) => {\n",
              "      const reader = new FileReader();\n",
              "      reader.onload = (e) => {\n",
              "        resolve(e.target.result);\n",
              "      };\n",
              "      reader.readAsArrayBuffer(file);\n",
              "    });\n",
              "    // Wait for the data to be ready.\n",
              "    let fileData = yield {\n",
              "      promise: fileDataPromise,\n",
              "      response: {\n",
              "        action: 'continue',\n",
              "      }\n",
              "    };\n",
              "\n",
              "    // Use a chunked sending to avoid message size limits. See b/62115660.\n",
              "    let position = 0;\n",
              "    do {\n",
              "      const length = Math.min(fileData.byteLength - position, MAX_PAYLOAD_SIZE);\n",
              "      const chunk = new Uint8Array(fileData, position, length);\n",
              "      position += length;\n",
              "\n",
              "      const base64 = btoa(String.fromCharCode.apply(null, chunk));\n",
              "      yield {\n",
              "        response: {\n",
              "          action: 'append',\n",
              "          file: file.name,\n",
              "          data: base64,\n",
              "        },\n",
              "      };\n",
              "\n",
              "      let percentDone = fileData.byteLength === 0 ?\n",
              "          100 :\n",
              "          Math.round((position / fileData.byteLength) * 100);\n",
              "      percent.textContent = `${percentDone}% done`;\n",
              "\n",
              "    } while (position < fileData.byteLength);\n",
              "  }\n",
              "\n",
              "  // All done.\n",
              "  yield {\n",
              "    response: {\n",
              "      action: 'complete',\n",
              "    }\n",
              "  };\n",
              "}\n",
              "\n",
              "scope.google = scope.google || {};\n",
              "scope.google.colab = scope.google.colab || {};\n",
              "scope.google.colab._files = {\n",
              "  _uploadFiles,\n",
              "  _uploadFilesContinue,\n",
              "};\n",
              "})(self);\n",
              "</script> "
            ]
          },
          "metadata": {}
        },
        {
          "output_type": "stream",
          "name": "stdout",
          "text": [
            "Saving heart.csv to heart.csv\n"
          ]
        }
      ]
    },
    {
      "cell_type": "code",
      "source": [
        "#exibindo informações sobre o dataset\n",
        "print(df.shape)\n",
        "print(df.head)\n",
        "print(df.describe())"
      ],
      "metadata": {
        "colab": {
          "base_uri": "https://localhost:8080/"
        },
        "id": "eom3DNuj0-Tp",
        "outputId": "1ea408c2-dbdf-4e29-92fa-167e3190c1c2"
      },
      "execution_count": 4,
      "outputs": [
        {
          "output_type": "stream",
          "name": "stdout",
          "text": [
            "(1025, 14)\n",
            "<bound method NDFrame.head of       idade  sexo  tipo de dor no peito  pressão arterial em repouso  \\\n",
            "0        52     1                     0                          125   \n",
            "1        53     1                     0                          140   \n",
            "2        70     1                     0                          145   \n",
            "3        61     1                     0                          148   \n",
            "4        62     0                     0                          138   \n",
            "...     ...   ...                   ...                          ...   \n",
            "1020     59     1                     1                          140   \n",
            "1021     60     1                     0                          125   \n",
            "1022     47     1                     0                          110   \n",
            "1023     50     0                     0                          110   \n",
            "1024     54     1                     0                          120   \n",
            "\n",
            "      colesterol  glicemia em jejum  \\\n",
            "0            212                  0   \n",
            "1            203                  1   \n",
            "2            174                  0   \n",
            "3            203                  0   \n",
            "4            294                  1   \n",
            "...          ...                ...   \n",
            "1020         221                  0   \n",
            "1021         258                  0   \n",
            "1022         275                  0   \n",
            "1023         254                  0   \n",
            "1024         188                  0   \n",
            "\n",
            "      Resultados eletrocardiográficos de repouso  \\\n",
            "0                                              1   \n",
            "1                                              0   \n",
            "2                                              1   \n",
            "3                                              1   \n",
            "4                                              1   \n",
            "...                                          ...   \n",
            "1020                                           1   \n",
            "1021                                           0   \n",
            "1022                                           0   \n",
            "1023                                           0   \n",
            "1024                                           1   \n",
            "\n",
            "      frequência cardíaca máxima alcançada  angina induzida por exercício  \\\n",
            "0                                      168                              0   \n",
            "1                                      155                              1   \n",
            "2                                      125                              1   \n",
            "3                                      161                              0   \n",
            "4                                      106                              0   \n",
            "...                                    ...                            ...   \n",
            "1020                                   164                              1   \n",
            "1021                                   141                              1   \n",
            "1022                                   118                              1   \n",
            "1023                                   159                              0   \n",
            "1024                                   113                              0   \n",
            "\n",
            "      oldpeak   inclinação  número de vasos principais  thal  alvo  \n",
            "0          1.0           2                           2     3     0  \n",
            "1          3.1           0                           0     3     0  \n",
            "2          2.6           0                           0     3     0  \n",
            "3          0.0           2                           1     3     0  \n",
            "4          1.9           1                           3     2     0  \n",
            "...        ...         ...                         ...   ...   ...  \n",
            "1020       0.0           2                           0     2     1  \n",
            "1021       2.8           1                           1     3     0  \n",
            "1022       1.0           1                           1     2     0  \n",
            "1023       0.0           2                           0     2     1  \n",
            "1024       1.4           1                           1     3     0  \n",
            "\n",
            "[1025 rows x 14 columns]>\n",
            "             idade         sexo  tipo de dor no peito  \\\n",
            "count  1025.000000  1025.000000           1025.000000   \n",
            "mean     54.434146     0.695610              0.942439   \n",
            "std       9.072290     0.460373              1.029641   \n",
            "min      29.000000     0.000000              0.000000   \n",
            "25%      48.000000     0.000000              0.000000   \n",
            "50%      56.000000     1.000000              1.000000   \n",
            "75%      61.000000     1.000000              2.000000   \n",
            "max      77.000000     1.000000              3.000000   \n",
            "\n",
            "       pressão arterial em repouso  colesterol  glicemia em jejum  \\\n",
            "count                  1025.000000  1025.00000        1025.000000   \n",
            "mean                    131.611707   246.00000           0.149268   \n",
            "std                      17.516718    51.59251           0.356527   \n",
            "min                      94.000000   126.00000           0.000000   \n",
            "25%                     120.000000   211.00000           0.000000   \n",
            "50%                     130.000000   240.00000           0.000000   \n",
            "75%                     140.000000   275.00000           0.000000   \n",
            "max                     200.000000   564.00000           1.000000   \n",
            "\n",
            "       Resultados eletrocardiográficos de repouso  \\\n",
            "count                                 1025.000000   \n",
            "mean                                     0.529756   \n",
            "std                                      0.527878   \n",
            "min                                      0.000000   \n",
            "25%                                      0.000000   \n",
            "50%                                      1.000000   \n",
            "75%                                      1.000000   \n",
            "max                                      2.000000   \n",
            "\n",
            "       frequência cardíaca máxima alcançada  angina induzida por exercício  \\\n",
            "count                           1025.000000                    1025.000000   \n",
            "mean                             149.114146                       0.336585   \n",
            "std                               23.005724                       0.472772   \n",
            "min                               71.000000                       0.000000   \n",
            "25%                              132.000000                       0.000000   \n",
            "50%                              152.000000                       0.000000   \n",
            "75%                              166.000000                       1.000000   \n",
            "max                              202.000000                       1.000000   \n",
            "\n",
            "          oldpeak    inclinação  número de vasos principais         thal  \\\n",
            "count  1025.000000  1025.000000                 1025.000000  1025.000000   \n",
            "mean      1.071512     1.385366                    0.754146     2.323902   \n",
            "std       1.175053     0.617755                    1.030798     0.620660   \n",
            "min       0.000000     0.000000                    0.000000     0.000000   \n",
            "25%       0.000000     1.000000                    0.000000     2.000000   \n",
            "50%       0.800000     1.000000                    0.000000     2.000000   \n",
            "75%       1.800000     2.000000                    1.000000     3.000000   \n",
            "max       6.200000     2.000000                    4.000000     3.000000   \n",
            "\n",
            "              alvo  \n",
            "count  1025.000000  \n",
            "mean      0.513171  \n",
            "std       0.500070  \n",
            "min       0.000000  \n",
            "25%       0.000000  \n",
            "50%       1.000000  \n",
            "75%       1.000000  \n",
            "max       1.000000  \n"
          ]
        }
      ]
    },
    {
      "cell_type": "code",
      "source": [
        "#tratanto valores ausentes\n",
        "df.isnull().sum()\n",
        "df.describe()\n",
        "df.info()"
      ],
      "metadata": {
        "colab": {
          "base_uri": "https://localhost:8080/"
        },
        "id": "VXHW1Bzc1A3l",
        "outputId": "49f5403d-bedb-416d-f66a-b94b26d7a455"
      },
      "execution_count": 5,
      "outputs": [
        {
          "output_type": "stream",
          "name": "stdout",
          "text": [
            "<class 'pandas.core.frame.DataFrame'>\n",
            "RangeIndex: 1025 entries, 0 to 1024\n",
            "Data columns (total 14 columns):\n",
            " #   Column                                      Non-Null Count  Dtype  \n",
            "---  ------                                      --------------  -----  \n",
            " 0   idade                                       1025 non-null   int64  \n",
            " 1   sexo                                        1025 non-null   int64  \n",
            " 2   tipo de dor no peito                        1025 non-null   int64  \n",
            " 3   pressão arterial em repouso                 1025 non-null   int64  \n",
            " 4   colesterol                                  1025 non-null   int64  \n",
            " 5   glicemia em jejum                           1025 non-null   int64  \n",
            " 6   Resultados eletrocardiográficos de repouso  1025 non-null   int64  \n",
            " 7   frequência cardíaca máxima alcançada        1025 non-null   int64  \n",
            " 8   angina induzida por exercício               1025 non-null   int64  \n",
            " 9   oldpeak                                     1025 non-null   float64\n",
            " 10  inclinação                                  1025 non-null   int64  \n",
            " 11  número de vasos principais                  1025 non-null   int64  \n",
            " 12  thal                                        1025 non-null   int64  \n",
            " 13  alvo                                        1025 non-null   int64  \n",
            "dtypes: float64(1), int64(13)\n",
            "memory usage: 112.2 KB\n"
          ]
        }
      ]
    },
    {
      "cell_type": "code",
      "source": [
        "#analise exploratória\n",
        "#Qual o percentual de pacientes com doenças cardíacas?\n",
        "pacientesDoentes = df['alvo'].value_counts(normalize=True) * 100\n",
        "pacientesDoentes\n",
        "\n",
        "# Mapeando os índices para \"Sim\" e \"Não\"\n",
        "pacientesDoentes.index = ['Não', 'Sim']\n",
        "\n",
        "# Criar gráfico de barras\n",
        "pacientesDoentes.plot(kind='bar', color=['blue', 'orange'])\n",
        "plt.title('Percentual de Pacientes com Doenças Cardíacas')\n",
        "plt.xlabel('Doenças Cardíacas')\n",
        "plt.ylabel('Percentual (%)')\n",
        "plt.xticks(rotation=0)\n",
        "plt.ylim(0, 100)\n",
        "\n",
        "# Exibir valores acima das barras\n",
        "for i, v in enumerate(pacientesDoentes):\n",
        "    plt.text(i, v + 1, f\"{v:.2f}%\", ha='center')\n",
        "\n",
        "plt.show()\n"
      ],
      "metadata": {
        "colab": {
          "base_uri": "https://localhost:8080/",
          "height": 473
        },
        "id": "dnUOQgB41EfA",
        "outputId": "bc9b3854-f3a9-4654-a346-07e5e398fa4d"
      },
      "execution_count": 45,
      "outputs": [
        {
          "output_type": "display_data",
          "data": {
            "text/plain": [
              "<Figure size 640x480 with 1 Axes>"
            ],
            "image/png": "[encoded data removed]"
          },
          "metadata": {}
        }
      ]
    },
    {
      "cell_type": "code",
      "source": [
        "#análise exploratoria\n",
        "#qual a faixa etária dos pacientes?\n",
        "\n",
        "min_idade = df['idade'].min()\n",
        "max_idade = df['idade'].max()\n",
        "media_idade = df['idade'].mean()\n",
        "\n",
        "print(f\"Idade mínima: {min_idade}\")\n",
        "print(f\"Idade máxima: {max_idade}\")\n",
        "print(f\"Idade média: {media_idade}\")\n",
        "\n",
        "# Histograma para visualizar a distribuição das idades\n",
        "plt.figure(figsize=(10, 6))\n",
        "sns.histplot(df['idade'], bins=10, kde=True, color='blue', edgecolor='orange')\n",
        "plt.title(\"Distribuição das Idades dos Pacientes\")\n",
        "plt.xlabel(\"Idade\")\n",
        "plt.ylabel(\"Frequência\")\n",
        "plt.show()"
      ],
      "metadata": {
        "colab": {
          "base_uri": "https://localhost:8080/",
          "height": 616
        },
        "id": "UkEanTRL1INU",
        "outputId": "4ff1df8a-fa73-450c-c5a9-c886e8215a5b"
      },
      "execution_count": 49,
      "outputs": [
        {
          "output_type": "stream",
          "name": "stdout",
          "text": [
            "Idade mínima: 29\n",
            "Idade máxima: 77\n",
            "Idade média: 54.43414634146342\n"
          ]
        },
        {
          "output_type": "display_data",
          "data": {
            "text/plain": [
              "<Figure size 1000x600 with 1 Axes>"
            ],
            "image/png": "[encoded data removed]"
          },
          "metadata": {}
        }
      ]
    },
    {
      "cell_type": "code",
      "source": [
        "#análise exploratoria\n",
        "#O gênero influencia na ocorrência de doenças cardíacas?\n",
        "# Filtrar os pacientes com doenças cardíacas (alvo = 1)\n",
        "data = df[df['alvo'] == 1]\n",
        "\n",
        "# Contar o número de pacientes com doenças cardíacas por gênero\n",
        "gender_counts = df['sexo'].value_counts()\n",
        "\n",
        "# Mapear valores de 'sexo' para rótulos (0 = Feminino, 1 = Masculino)\n",
        "labels = ['Masculino', 'Feminino']\n",
        "\n",
        "# Criar gráfico de pizza\n",
        "plt.figure(figsize=(8, 8))\n",
        "plt.pie(gender_counts, labels=labels, autopct='%1.1f%%', startangle=90,  colors=['blue', 'orange'])\n",
        "plt.title(\"Percentual de Pacientes com Doenças Cardíacas por Gênero\")\n",
        "plt.show()"
      ],
      "metadata": {
        "colab": {
          "base_uri": "https://localhost:8080/",
          "height": 675
        },
        "id": "15lwQI1a8ug_",
        "outputId": "3d056855-3464-409f-bae0-8abd5ccefb3b"
      },
      "execution_count": 44,
      "outputs": [
        {
          "output_type": "display_data",
          "data": {
            "text/plain": [
              "<Figure size 800x800 with 1 Axes>"
            ],
            "image/png": "[encoded data removed]"
          },
          "metadata": {}
        }
      ]
    },
    {
      "cell_type": "code",
      "source": [
        "#separando features e labels\n",
        "X = df.drop('alvo', axis=1)\n",
        "y = df['alvo']\n",
        "\n",
        "# Dividir em treino e teste (80% para treino e 20% para teste)\n",
        "X_train, X_test, y_train, y_test = train_test_split(X, y, test_size=0.2, random_state=42)"
      ],
      "metadata": {
        "id": "RY8FrU1q1V9c"
      },
      "execution_count": 28,
      "outputs": []
    },
    {
      "cell_type": "code",
      "source": [
        "#padronizando os dados\n",
        "scaler = StandardScaler()\n",
        "X_train_normalized = scaler.fit_transform(X_train)\n",
        "X_test_normalized = scaler.transform(X_test)\n"
      ],
      "metadata": {
        "id": "nA5kyQwJ15BI"
      },
      "execution_count": 12,
      "outputs": []
    },
    {
      "cell_type": "code",
      "source": [
        "# o modelo knn, obtém resultados a partir da análise dos dados, assumindo que objetos semelhantes estarão próximos uns dos outros a partir de suas características\n",
        "#treinando o modelo knn\n",
        "knn = KNeighborsClassifier()\n",
        "knn.fit(X_train_normalized, y_train)\n",
        "\n",
        "acuracia = knn.score(X_train_normalized, y_train)\n",
        "print(f\"Acurácia do modelo: {acuracia:.2f}\")\n"
      ],
      "metadata": {
        "colab": {
          "base_uri": "https://localhost:8080/"
        },
        "id": "SVeS4v3917ID",
        "outputId": "89c2549c-6ec2-4cd1-deef-f9a8807f5875"
      },
      "execution_count": 13,
      "outputs": [
        {
          "output_type": "stream",
          "name": "stdout",
          "text": [
            "Acurácia do modelo: 0.95\n"
          ]
        }
      ]
    },
    {
      "cell_type": "code",
      "source": [
        "#o modelo de árvore de decisão funciona dcomo um conjuto de regras hierarquicas. Em um árvore de decisões, as decisões se dão a partir de nós e a saídas por meio de folhas\n",
        "#Assim, funcionando de maneira análoga a um fluxograma onde as resposta influenciam diretamente na saída\n",
        "#treinando o modelo árvore de decisão\n",
        "ad = DecisionTreeClassifier(random_state=42)\n",
        "ad_modelo = ad.fit(X_train, y_train)\n",
        "\n",
        "#verificando a acurácia\n",
        "acuracia = ad.score(X_train, y_train)\n",
        "print(f\"Acurácia do modelo: {acuracia * 100:.2f}%\")"
      ],
      "metadata": {
        "colab": {
          "base_uri": "https://localhost:8080/"
        },
        "id": "dcTkD-U41-Dn",
        "outputId": "5376fef5-487f-47fa-bde4-6a88faa02c8c"
      },
      "execution_count": 14,
      "outputs": [
        {
          "output_type": "stream",
          "name": "stdout",
          "text": [
            "Acurácia do modelo: 100.00%\n"
          ]
        }
      ]
    },
    {
      "cell_type": "code",
      "source": [
        "#treinando o modelo randon forest\n",
        "\n",
        "rf = RandomForestClassifier(random_state=42, n_estimators=100)\n",
        "rf.fit(X_train, y_train)\n",
        "\n",
        "# Fazer previsões e avaliar o modelo no conjunto de teste\n",
        "y_pred_rf= rf.predict(X_test)\n",
        "acuracia = accuracy_score(y_test, y_pred_rf)\n",
        "print(f\"Acurácia do modelo: {acuracia * 100:.2f}%\")\n"
      ],
      "metadata": {
        "colab": {
          "base_uri": "https://localhost:8080/"
        },
        "id": "dVnHxX-w1_7r",
        "outputId": "e3268b2e-3ae8-4656-d4cd-a7377e1bd1fc"
      },
      "execution_count": 15,
      "outputs": [
        {
          "output_type": "stream",
          "name": "stdout",
          "text": [
            "Acurácia do modelo: 98.54%\n"
          ]
        }
      ]
    },
    {
      "cell_type": "markdown",
      "source": [
        "**Explique qual modelo apresentou os melhores resultados e justifique por que você o considera o mais adequado para resolver o problema.**\n",
        "\n",
        "R: O modelo Árvore de Decisão se adequou bem com o conjunto de dados e teve os melhores resultados, alcançando uma acurácia de 100%, o que indica que classificou muito bem aos casos no conjunto de testes. Além disso, o modelo é facil de compreender, já que consigo ver o processo de decisão e entender como cada variável afeta o resultado. Esse modelo se ajusta melhor ainda no conjunto por todas as variaveis serem numericas, permitindo que ele identifique padrões sem precisar de ajustes complexos. Portando, na minha opinião, a Arvore de Decisões foi a melhor escolha."
      ],
      "metadata": {
        "id": "-wH09cP4C4DI"
      }
    }
  ]
}